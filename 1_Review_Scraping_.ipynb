{
  "nbformat": 4,
  "nbformat_minor": 0,
  "metadata": {
    "colab": {
      "provenance": [],
      "authorship_tag": "ABX9TyPTfZcOLfL77Jt5h129ncbM",
      "include_colab_link": true
    },
    "kernelspec": {
      "name": "python3",
      "display_name": "Python 3"
    },
    "language_info": {
      "name": "python"
    }
  },
  "cells": [
    {
      "cell_type": "markdown",
      "metadata": {
        "id": "view-in-github",
        "colab_type": "text"
      },
      "source": [
        "<a href=\"https://colab.research.google.com/github/amarfadil/Scrapping-Review-Pre-Processing-Training-Classifier-and-data-visualization-CryptoApp/blob/main/1_Review_Scraping_.ipynb\" target=\"_parent\"><img src=\"https://colab.research.google.com/assets/colab-badge.svg\" alt=\"Open In Colab\"/></a>"
      ]
    },
    {
      "cell_type": "code",
      "execution_count": null,
      "metadata": {
        "id": "-muJeNUI51wo"
      },
      "outputs": [],
      "source": [
        "!pip install -qq google-play-scraper\n",
        "!pip install app_store_scraper\n",
        "!pip install -U textblob\n",
        "!pip install nltk\n",
        "!pip install -U scikit-learn\n",
        "!pip install sklearn-features"
      ]
    },
    {
      "cell_type": "code",
      "source": [
        "import json\n",
        "import pandas as pd\n",
        "import numpy as np\n",
        "import json, os, uuid\n",
        "import time\n",
        "import re\n",
        "import string\n",
        "import nltk\n",
        "\n",
        "\n",
        "from nltk.corpus import stopwords\n",
        "nltk.download('stopwords')\n",
        "nltk.download('punkt')\n",
        "\n",
        "from sklearn.feature_extraction.text import CountVectorizer, TfidfVectorizer\n",
        "from tqdm import tqdm\n",
        "from textblob import TextBlob \n",
        "from google_play_scraper import Sort, reviews, app\n",
        "from app_store_scraper import AppStore\n",
        "\n",
        "from pygments import highlight\n",
        "from pygments.lexers import JsonLexer\n",
        "from pygments.formatters import TerminalFormatter"
      ],
      "metadata": {
        "id": "Uvv9i9Vn56up"
      },
      "execution_count": null,
      "outputs": []
    },
    {
      "cell_type": "code",
      "source": [
        "playStoreApp_packages = [\n",
        "    # List of Google Play Store app packages to be scraped\n",
        "    'com.wallet.crypto.trustapp',\n",
        "    'io.metamask',\n",
        "    'piuk.blockchain.android',\n",
        "    'org.toshi',\n",
        "    'com.coinomi.wallet'\n",
        "]"
      ],
      "metadata": {
        "id": "hI4Sxt-056zk"
      },
      "execution_count": null,
      "outputs": []
    },
    {
      "cell_type": "code",
      "source": [
        "app_infos = []  # Initialize an empty list to store app information\n",
        "\n",
        "for application in tqdm(playStoreApp_packages):\n",
        "  info = app(application,lang ='id',country='id')  # Get app information for each package\n",
        "  del info ['comments'] # Remove the 'comments' key-value pair from the app information dictionary\n",
        "  app_infos.append(info)   # Append the app information dictionary to the app_infos list"
      ],
      "metadata": {
        "colab": {
          "base_uri": "https://localhost:8080/"
        },
        "id": "OZPuDi4I5-ZI",
        "outputId": "74464195-abb1-4856-ea44-00a9afe94076"
      },
      "execution_count": null,
      "outputs": [
        {
          "output_type": "stream",
          "name": "stderr",
          "text": [
            "100%|██████████| 5/5 [00:01<00:00,  3.93it/s]\n"
          ]
        }
      ]
    },
    {
      "cell_type": "code",
      "source": [
        "app_reviews = []  # Initialize an empty list to store app reviews\n",
        "\n",
        "for ap in tqdm (playStoreApp_packages):\n",
        "  for score in list(range (1,6)):# Iterate through a list of scores from 1 to 5\n",
        "    for sort_order in [Sort.MOST_RELEVANT, Sort.NEWEST]:    # Iterate through a list of sort orders\n",
        "      rvs, _ = reviews(\n",
        "          ap,    # App package name\n",
        "          lang = 'en',    # Language code\n",
        "          country = 'us',    # Country code\n",
        "          sort = sort_order,    # Review sorting order\n",
        "          count = 20000 if score == 3 else 100,    # Number of reviews to fetch based on the score\n",
        "          filter_score_with = score    # Filter reviews by the score\n",
        "      )\n",
        "      for r in rvs:\n",
        "        r ['sortOrder'] = 'most_relevant' if sort_order == Sort.MOST_RELEVANT else 'newest'    # Add a new key-value pair to the review dictionary indicating the sort order\n",
        "        r ['appId'] = ap    # Add a new key-value pair to the review dictionary indicating the app package\n",
        "      app_reviews.extend(rvs)    # Extend the app_reviews list with the list of reviews\n",
        "      time.sleep(1)  # add a delay of 1 second between requests"
      ],
      "metadata": {
        "colab": {
          "base_uri": "https://localhost:8080/"
        },
        "id": "MUeAxb645-bw",
        "outputId": "316f396d-d2dd-4dbd-b182-851134877dae"
      },
      "execution_count": null,
      "outputs": [
        {
          "output_type": "stream",
          "name": "stderr",
          "text": [
            "100%|██████████| 5/5 [01:39<00:00, 19.97s/it]\n"
          ]
        }
      ]
    },
    {
      "cell_type": "code",
      "source": [
        "app_reviews_df = pd.DataFrame (app_reviews) # Create a pandas DataFrame from the app_reviews list\n",
        "app_reviews_df = app_reviews_df.sort_values([\"appId\", \"at\"]) # Sort the DataFrame by 'appId' and 'at' columns\n",
        "pS_Scrapping_df = app_reviews_df.drop(columns = ['userImage', 'replyContent', 'repliedAt']) # Drop columns 'userImage', 'replyContent', and 'repliedAt' from the DataFrame\n",
        "pS_Scrapping_df.dropna(how='all')\n",
        "pS_Scrapping_df.drop_duplicates(keep=\"first\")\n",
        "\n",
        "pS_Scrapping_df.shape"
      ],
      "metadata": {
        "colab": {
          "base_uri": "https://localhost:8080/"
        },
        "id": "emnYLQa66AJZ",
        "outputId": "f89283ee-c9dd-48a3-e18b-0a6215b15f10"
      },
      "execution_count": null,
      "outputs": [
        {
          "output_type": "execute_result",
          "data": {
            "text/plain": [
              "(27934, 9)"
            ]
          },
          "metadata": {},
          "execution_count": 7
        }
      ]
    },
    {
      "cell_type": "code",
      "source": [
        "pS_Scrapping_df.isnull().sum()"
      ],
      "metadata": {
        "id": "5BfJBFW4aUpz"
      },
      "execution_count": null,
      "outputs": []
    },
    {
      "cell_type": "code",
      "source": [
        "!pip install vaderSentiment\n",
        "from vaderSentiment.vaderSentiment import SentimentIntensityAnalyzer"
      ],
      "metadata": {
        "id": "4FmOdlLTYcYg"
      },
      "execution_count": null,
      "outputs": []
    },
    {
      "cell_type": "code",
      "source": [
        "sentiment_scores = []\n",
        "for review in pS_Scrapping_df[\"content\"].dropna():\n",
        "    score = analyzer.polarity_scores(review)\n",
        "    sentiment_scores.append(score)\n",
        "sentiment_df = pd.DataFrame(sentiment_scores)\n",
        "\n",
        "sentiment_df = pd.DataFrame(sentiment_scores)\n",
        "pS_Scrapping_df = pd.concat([pS_Scrapping_df, sentiment_df], axis=1)\n"
      ],
      "metadata": {
        "id": "TM2L0JEUsyQj"
      },
      "execution_count": null,
      "outputs": []
    },
    {
      "cell_type": "code",
      "source": [
        "pS_Scrapping_df.head()"
      ],
      "metadata": {
        "colab": {
          "base_uri": "https://localhost:8080/",
          "height": 618
        },
        "id": "dLAZJFe9tq9t",
        "outputId": "1ca5ee87-f631-48cd-a4ed-fa0f30d11204"
      },
      "execution_count": null,
      "outputs": [
        {
          "output_type": "execute_result",
          "data": {
            "text/plain": [
              "                                   reviewId       userName  \\\n",
              "27054  3c6c6b2c-2422-428e-bb1e-f8a1a822c704  A Google user   \n",
              "27533  3c6c6b2c-2422-428e-bb1e-f8a1a822c704  A Google user   \n",
              "27053  d18fbd59-6f6b-4530-b6d5-0577081c3cee  A Google user   \n",
              "27532  d18fbd59-6f6b-4530-b6d5-0577081c3cee  A Google user   \n",
              "27052  7d416206-ef21-4a33-8957-52377f6a3ad6  A Google user   \n",
              "\n",
              "                                                 content  score  \\\n",
              "27054  An address book is absolutely necessary. QR co...      3   \n",
              "27533  An address book is absolutely necessary. QR co...      3   \n",
              "27053           I will try this application. seems safe.      3   \n",
              "27532           I will try this application. seems safe.      3   \n",
              "27052  Trying to understand how is it possible that i...      3   \n",
              "\n",
              "       thumbsUpCount reviewCreatedVersion                  at      sortOrder  \\\n",
              "27054              1               v1.5.3 2015-01-06 08:53:56  most_relevant   \n",
              "27533              1               v1.5.3 2015-01-06 08:53:56         newest   \n",
              "27053              1              v1.5.11 2015-03-08 07:21:28  most_relevant   \n",
              "27532              1              v1.5.11 2015-03-08 07:21:28         newest   \n",
              "27052              1              v1.5.14 2015-05-23 13:36:36  most_relevant   \n",
              "\n",
              "                    appId    neg    neu    pos  compound  \n",
              "27054  com.coinomi.wallet  0.153  0.632  0.215    0.3544  \n",
              "27533  com.coinomi.wallet  0.000  0.871  0.129    0.4497  \n",
              "27053  com.coinomi.wallet  0.153  0.632  0.215    0.3544  \n",
              "27532  com.coinomi.wallet  0.000  0.871  0.129    0.4497  \n",
              "27052  com.coinomi.wallet  0.000  0.615  0.385    0.6124  "
            ],
            "text/html": [
              "\n",
              "  <div id=\"df-56844dd0-efea-4d4e-af6b-d2c4d558c615\">\n",
              "    <div class=\"colab-df-container\">\n",
              "      <div>\n",
              "<style scoped>\n",
              "    .dataframe tbody tr th:only-of-type {\n",
              "        vertical-align: middle;\n",
              "    }\n",
              "\n",
              "    .dataframe tbody tr th {\n",
              "        vertical-align: top;\n",
              "    }\n",
              "\n",
              "    .dataframe thead th {\n",
              "        text-align: right;\n",
              "    }\n",
              "</style>\n",
              "<table border=\"1\" class=\"dataframe\">\n",
              "  <thead>\n",
              "    <tr style=\"text-align: right;\">\n",
              "      <th></th>\n",
              "      <th>reviewId</th>\n",
              "      <th>userName</th>\n",
              "      <th>content</th>\n",
              "      <th>score</th>\n",
              "      <th>thumbsUpCount</th>\n",
              "      <th>reviewCreatedVersion</th>\n",
              "      <th>at</th>\n",
              "      <th>sortOrder</th>\n",
              "      <th>appId</th>\n",
              "      <th>neg</th>\n",
              "      <th>neu</th>\n",
              "      <th>pos</th>\n",
              "      <th>compound</th>\n",
              "    </tr>\n",
              "  </thead>\n",
              "  <tbody>\n",
              "    <tr>\n",
              "      <th>27054</th>\n",
              "      <td>3c6c6b2c-2422-428e-bb1e-f8a1a822c704</td>\n",
              "      <td>A Google user</td>\n",
              "      <td>An address book is absolutely necessary. QR co...</td>\n",
              "      <td>3</td>\n",
              "      <td>1</td>\n",
              "      <td>v1.5.3</td>\n",
              "      <td>2015-01-06 08:53:56</td>\n",
              "      <td>most_relevant</td>\n",
              "      <td>com.coinomi.wallet</td>\n",
              "      <td>0.153</td>\n",
              "      <td>0.632</td>\n",
              "      <td>0.215</td>\n",
              "      <td>0.3544</td>\n",
              "    </tr>\n",
              "    <tr>\n",
              "      <th>27533</th>\n",
              "      <td>3c6c6b2c-2422-428e-bb1e-f8a1a822c704</td>\n",
              "      <td>A Google user</td>\n",
              "      <td>An address book is absolutely necessary. QR co...</td>\n",
              "      <td>3</td>\n",
              "      <td>1</td>\n",
              "      <td>v1.5.3</td>\n",
              "      <td>2015-01-06 08:53:56</td>\n",
              "      <td>newest</td>\n",
              "      <td>com.coinomi.wallet</td>\n",
              "      <td>0.000</td>\n",
              "      <td>0.871</td>\n",
              "      <td>0.129</td>\n",
              "      <td>0.4497</td>\n",
              "    </tr>\n",
              "    <tr>\n",
              "      <th>27053</th>\n",
              "      <td>d18fbd59-6f6b-4530-b6d5-0577081c3cee</td>\n",
              "      <td>A Google user</td>\n",
              "      <td>I will try this application. seems safe.</td>\n",
              "      <td>3</td>\n",
              "      <td>1</td>\n",
              "      <td>v1.5.11</td>\n",
              "      <td>2015-03-08 07:21:28</td>\n",
              "      <td>most_relevant</td>\n",
              "      <td>com.coinomi.wallet</td>\n",
              "      <td>0.153</td>\n",
              "      <td>0.632</td>\n",
              "      <td>0.215</td>\n",
              "      <td>0.3544</td>\n",
              "    </tr>\n",
              "    <tr>\n",
              "      <th>27532</th>\n",
              "      <td>d18fbd59-6f6b-4530-b6d5-0577081c3cee</td>\n",
              "      <td>A Google user</td>\n",
              "      <td>I will try this application. seems safe.</td>\n",
              "      <td>3</td>\n",
              "      <td>1</td>\n",
              "      <td>v1.5.11</td>\n",
              "      <td>2015-03-08 07:21:28</td>\n",
              "      <td>newest</td>\n",
              "      <td>com.coinomi.wallet</td>\n",
              "      <td>0.000</td>\n",
              "      <td>0.871</td>\n",
              "      <td>0.129</td>\n",
              "      <td>0.4497</td>\n",
              "    </tr>\n",
              "    <tr>\n",
              "      <th>27052</th>\n",
              "      <td>7d416206-ef21-4a33-8957-52377f6a3ad6</td>\n",
              "      <td>A Google user</td>\n",
              "      <td>Trying to understand how is it possible that i...</td>\n",
              "      <td>3</td>\n",
              "      <td>1</td>\n",
              "      <td>v1.5.14</td>\n",
              "      <td>2015-05-23 13:36:36</td>\n",
              "      <td>most_relevant</td>\n",
              "      <td>com.coinomi.wallet</td>\n",
              "      <td>0.000</td>\n",
              "      <td>0.615</td>\n",
              "      <td>0.385</td>\n",
              "      <td>0.6124</td>\n",
              "    </tr>\n",
              "  </tbody>\n",
              "</table>\n",
              "</div>\n",
              "      <button class=\"colab-df-convert\" onclick=\"convertToInteractive('df-56844dd0-efea-4d4e-af6b-d2c4d558c615')\"\n",
              "              title=\"Convert this dataframe to an interactive table.\"\n",
              "              style=\"display:none;\">\n",
              "        \n",
              "  <svg xmlns=\"http://www.w3.org/2000/svg\" height=\"24px\"viewBox=\"0 0 24 24\"\n",
              "       width=\"24px\">\n",
              "    <path d=\"M0 0h24v24H0V0z\" fill=\"none\"/>\n",
              "    <path d=\"M18.56 5.44l.94 2.06.94-2.06 2.06-.94-2.06-.94-.94-2.06-.94 2.06-2.06.94zm-11 1L8.5 8.5l.94-2.06 2.06-.94-2.06-.94L8.5 2.5l-.94 2.06-2.06.94zm10 10l.94 2.06.94-2.06 2.06-.94-2.06-.94-.94-2.06-.94 2.06-2.06.94z\"/><path d=\"M17.41 7.96l-1.37-1.37c-.4-.4-.92-.59-1.43-.59-.52 0-1.04.2-1.43.59L10.3 9.45l-7.72 7.72c-.78.78-.78 2.05 0 2.83L4 21.41c.39.39.9.59 1.41.59.51 0 1.02-.2 1.41-.59l7.78-7.78 2.81-2.81c.8-.78.8-2.07 0-2.86zM5.41 20L4 18.59l7.72-7.72 1.47 1.35L5.41 20z\"/>\n",
              "  </svg>\n",
              "      </button>\n",
              "      \n",
              "  <style>\n",
              "    .colab-df-container {\n",
              "      display:flex;\n",
              "      flex-wrap:wrap;\n",
              "      gap: 12px;\n",
              "    }\n",
              "\n",
              "    .colab-df-convert {\n",
              "      background-color: #E8F0FE;\n",
              "      border: none;\n",
              "      border-radius: 50%;\n",
              "      cursor: pointer;\n",
              "      display: none;\n",
              "      fill: #1967D2;\n",
              "      height: 32px;\n",
              "      padding: 0 0 0 0;\n",
              "      width: 32px;\n",
              "    }\n",
              "\n",
              "    .colab-df-convert:hover {\n",
              "      background-color: #E2EBFA;\n",
              "      box-shadow: 0px 1px 2px rgba(60, 64, 67, 0.3), 0px 1px 3px 1px rgba(60, 64, 67, 0.15);\n",
              "      fill: #174EA6;\n",
              "    }\n",
              "\n",
              "    [theme=dark] .colab-df-convert {\n",
              "      background-color: #3B4455;\n",
              "      fill: #D2E3FC;\n",
              "    }\n",
              "\n",
              "    [theme=dark] .colab-df-convert:hover {\n",
              "      background-color: #434B5C;\n",
              "      box-shadow: 0px 1px 3px 1px rgba(0, 0, 0, 0.15);\n",
              "      filter: drop-shadow(0px 1px 2px rgba(0, 0, 0, 0.3));\n",
              "      fill: #FFFFFF;\n",
              "    }\n",
              "  </style>\n",
              "\n",
              "      <script>\n",
              "        const buttonEl =\n",
              "          document.querySelector('#df-56844dd0-efea-4d4e-af6b-d2c4d558c615 button.colab-df-convert');\n",
              "        buttonEl.style.display =\n",
              "          google.colab.kernel.accessAllowed ? 'block' : 'none';\n",
              "\n",
              "        async function convertToInteractive(key) {\n",
              "          const element = document.querySelector('#df-56844dd0-efea-4d4e-af6b-d2c4d558c615');\n",
              "          const dataTable =\n",
              "            await google.colab.kernel.invokeFunction('convertToInteractive',\n",
              "                                                     [key], {});\n",
              "          if (!dataTable) return;\n",
              "\n",
              "          const docLinkHtml = 'Like what you see? Visit the ' +\n",
              "            '<a target=\"_blank\" href=https://colab.research.google.com/notebooks/data_table.ipynb>data table notebook</a>'\n",
              "            + ' to learn more about interactive tables.';\n",
              "          element.innerHTML = '';\n",
              "          dataTable['output_type'] = 'display_data';\n",
              "          await google.colab.output.renderOutput(dataTable, element);\n",
              "          const docLink = document.createElement('div');\n",
              "          docLink.innerHTML = docLinkHtml;\n",
              "          element.appendChild(docLink);\n",
              "        }\n",
              "      </script>\n",
              "    </div>\n",
              "  </div>\n",
              "  "
            ]
          },
          "metadata": {},
          "execution_count": 46
        }
      ]
    },
    {
      "cell_type": "code",
      "source": [
        "pS_Scrapping_df.to_csv ('data_clean.csv', index = False)\n",
        "data_clean = pd.read_csv('data_clean.csv', encoding ='latin1')\n",
        "data_clean.head()"
      ],
      "metadata": {
        "id": "2xoUZsV1bMzS"
      },
      "execution_count": null,
      "outputs": []
    },
    {
      "cell_type": "markdown",
      "source": [
        "\n",
        "\n",
        "---\n",
        "\n",
        "App Store Scrapping\n",
        "\n",
        "---\n",
        "\n"
      ],
      "metadata": {
        "id": "3BxkmbW0vlpu"
      }
    },
    {
      "cell_type": "code",
      "source": [
        "trustWallet = AppStore(country=\"us\", app_name=\"Trust: Crypto & Bitcoin Wallet\")\n",
        "trustWallet.review(how_many=2000)\n",
        "\n",
        "tW_df = pd.DataFrame(np.array(trustWallet.reviews),columns=['review'])\n",
        "tW_df2 = tW_df.join(pd.DataFrame(tW_df.pop('review').tolist()))\n",
        "\n",
        "##---\n",
        "\n",
        "metaMask = AppStore(country=\"us\", app_name=\"MetaMask - Blockchain Wallet\")\n",
        "metaMask.review(how_many=2000)\n",
        "\n",
        "mM_df = pd.DataFrame(np.array(metaMask.reviews),columns=['review'])\n",
        "mM_df2 = mM_df.join(pd.DataFrame(mM_df.pop('review').tolist()))\n",
        "\n",
        "##---\n",
        "\n",
        "blockChainWallet = AppStore(country=\"us\", app_name=\"Blockchain.com: Crypto Wallet\")\n",
        "blockChainWallet.review(how_many=2000)\n",
        "\n",
        "bCw_df = pd.DataFrame(np.array(blockChainWallet.reviews),columns=['review'])\n",
        "bCw_df2 = bCw_df.join(pd.DataFrame(bCw_df.pop('review').tolist()))\n",
        "\n",
        "##---\n",
        "\n",
        "coinBase = AppStore(country=\"us\", app_name=\"Coinbase Wallet: NFTs & Crypto\")\n",
        "coinBase.review(how_many=2000)\n",
        "\n",
        "cB_df = pd.DataFrame(np.array(coinBase.reviews),columns=['review'])\n",
        "cB_df2 = tW_df.join(pd.DataFrame(cB_df.pop('review').tolist()))\n",
        "\n",
        "##---\n",
        "\n",
        "exodusWallet = AppStore(country=\"us\", app_name=\"Coinomi Wallet\")\n",
        "exodusWallet.review(how_many=2000)\n",
        "\n",
        "eW_df = pd.DataFrame(np.array(exodusWallet.reviews),columns=['review'])\n",
        "eW_df2 = eW_df.join(pd.DataFrame(eW_df.pop('review').tolist()))\n"
      ],
      "metadata": {
        "id": "4yA48jp1vksM"
      },
      "execution_count": null,
      "outputs": []
    },
    {
      "cell_type": "code",
      "source": [
        "AppstoreReview = pd.read_csv(\"AppstoreReview.csv\")"
      ],
      "metadata": {
        "id": "ZBedLsM-80wN"
      },
      "execution_count": null,
      "outputs": []
    },
    {
      "cell_type": "code",
      "source": [
        "ConcatAllReview = pd.concat([AppstoreReview, data_clean])\n",
        "ConcatAllReview.shape"
      ],
      "metadata": {
        "colab": {
          "base_uri": "https://localhost:8080/"
        },
        "id": "-Wgxjure9Xms",
        "outputId": "b5f2c466-1992-486c-d0fa-0cbe7e7aed9c"
      },
      "execution_count": null,
      "outputs": [
        {
          "output_type": "execute_result",
          "data": {
            "text/plain": [
              "(35605, 15)"
            ]
          },
          "metadata": {},
          "execution_count": 44
        }
      ]
    },
    {
      "cell_type": "code",
      "source": [
        "ConcatAllReview.to_csv ('ConcatAllReview.csv', index = False)\n",
        "ConcatAllReview = pd.read_csv('ConcatAllReview.csv', encoding ='latin1')\n",
        "ConcatAllReview.head()"
      ],
      "metadata": {
        "colab": {
          "base_uri": "https://localhost:8080/",
          "height": 583
        },
        "id": "so4FQUIT9mEq",
        "outputId": "34b82998-36a5-447b-b1d6-bc0f4b41027b"
      },
      "execution_count": null,
      "outputs": [
        {
          "output_type": "execute_result",
          "data": {
            "text/plain": [
              "                  date                                             review  \\\n",
              "0  2019-02-23 22:46:07  I've been following Coinomi ever since the beg...   \n",
              "1  2022-02-13 13:15:43  Iâve been using the app for a while and, for...   \n",
              "2  2021-02-12 17:05:58  Coinomi is one of the best cryptocurrency wall...   \n",
              "3  2020-05-21 11:16:58  I rarely make App Store reviews, but since I l...   \n",
              "4  2021-11-20 16:30:04  Coinomi seemed to be a decent wallet for stori...   \n",
              "\n",
              "   rating isEdited         userName  \\\n",
              "0     5.0    False   BuddhaBr0wnies   \n",
              "1     3.0    False        TrueLuck3   \n",
              "2     5.0    False       shadallion   \n",
              "3     5.0    False  Lana01827482910   \n",
              "4     2.0    False  Newtius Maximus   \n",
              "\n",
              "                                               title  \\\n",
              "0                              Best Crypto App Ever!   \n",
              "1                              Clunky User Interface   \n",
              "2           Very Sound Choice with a Special Feature   \n",
              "3                         Trustworthy, simple to use   \n",
              "4  Canât withdraw or exchange any crypto due to...   \n",
              "\n",
              "                                   developerResponse reviewId content  score  \\\n",
              "0                                                NaN      NaN     NaN    NaN   \n",
              "1  {'id': 28394350, 'body': 'Hi TrueLuck, Thank y...      NaN     NaN    NaN   \n",
              "2                                                NaN      NaN     NaN    NaN   \n",
              "3                                                NaN      NaN     NaN    NaN   \n",
              "4  {'id': 28133534, 'body': \"Hi Newtius, Sorry to...      NaN     NaN    NaN   \n",
              "\n",
              "   thumbsUpCount reviewCreatedVersion   at sortOrder appId  \n",
              "0            NaN                  NaN  NaN       NaN   NaN  \n",
              "1            NaN                  NaN  NaN       NaN   NaN  \n",
              "2            NaN                  NaN  NaN       NaN   NaN  \n",
              "3            NaN                  NaN  NaN       NaN   NaN  \n",
              "4            NaN                  NaN  NaN       NaN   NaN  "
            ],
            "text/html": [
              "\n",
              "  <div id=\"df-4e0c894b-5c7a-4f7d-b680-e7a250bbbb9c\">\n",
              "    <div class=\"colab-df-container\">\n",
              "      <div>\n",
              "<style scoped>\n",
              "    .dataframe tbody tr th:only-of-type {\n",
              "        vertical-align: middle;\n",
              "    }\n",
              "\n",
              "    .dataframe tbody tr th {\n",
              "        vertical-align: top;\n",
              "    }\n",
              "\n",
              "    .dataframe thead th {\n",
              "        text-align: right;\n",
              "    }\n",
              "</style>\n",
              "<table border=\"1\" class=\"dataframe\">\n",
              "  <thead>\n",
              "    <tr style=\"text-align: right;\">\n",
              "      <th></th>\n",
              "      <th>date</th>\n",
              "      <th>review</th>\n",
              "      <th>rating</th>\n",
              "      <th>isEdited</th>\n",
              "      <th>userName</th>\n",
              "      <th>title</th>\n",
              "      <th>developerResponse</th>\n",
              "      <th>reviewId</th>\n",
              "      <th>content</th>\n",
              "      <th>score</th>\n",
              "      <th>thumbsUpCount</th>\n",
              "      <th>reviewCreatedVersion</th>\n",
              "      <th>at</th>\n",
              "      <th>sortOrder</th>\n",
              "      <th>appId</th>\n",
              "    </tr>\n",
              "  </thead>\n",
              "  <tbody>\n",
              "    <tr>\n",
              "      <th>0</th>\n",
              "      <td>2019-02-23 22:46:07</td>\n",
              "      <td>I've been following Coinomi ever since the beg...</td>\n",
              "      <td>5.0</td>\n",
              "      <td>False</td>\n",
              "      <td>BuddhaBr0wnies</td>\n",
              "      <td>Best Crypto App Ever!</td>\n",
              "      <td>NaN</td>\n",
              "      <td>NaN</td>\n",
              "      <td>NaN</td>\n",
              "      <td>NaN</td>\n",
              "      <td>NaN</td>\n",
              "      <td>NaN</td>\n",
              "      <td>NaN</td>\n",
              "      <td>NaN</td>\n",
              "      <td>NaN</td>\n",
              "    </tr>\n",
              "    <tr>\n",
              "      <th>1</th>\n",
              "      <td>2022-02-13 13:15:43</td>\n",
              "      <td>Iâve been using the app for a while and, for...</td>\n",
              "      <td>3.0</td>\n",
              "      <td>False</td>\n",
              "      <td>TrueLuck3</td>\n",
              "      <td>Clunky User Interface</td>\n",
              "      <td>{'id': 28394350, 'body': 'Hi TrueLuck, Thank y...</td>\n",
              "      <td>NaN</td>\n",
              "      <td>NaN</td>\n",
              "      <td>NaN</td>\n",
              "      <td>NaN</td>\n",
              "      <td>NaN</td>\n",
              "      <td>NaN</td>\n",
              "      <td>NaN</td>\n",
              "      <td>NaN</td>\n",
              "    </tr>\n",
              "    <tr>\n",
              "      <th>2</th>\n",
              "      <td>2021-02-12 17:05:58</td>\n",
              "      <td>Coinomi is one of the best cryptocurrency wall...</td>\n",
              "      <td>5.0</td>\n",
              "      <td>False</td>\n",
              "      <td>shadallion</td>\n",
              "      <td>Very Sound Choice with a Special Feature</td>\n",
              "      <td>NaN</td>\n",
              "      <td>NaN</td>\n",
              "      <td>NaN</td>\n",
              "      <td>NaN</td>\n",
              "      <td>NaN</td>\n",
              "      <td>NaN</td>\n",
              "      <td>NaN</td>\n",
              "      <td>NaN</td>\n",
              "      <td>NaN</td>\n",
              "    </tr>\n",
              "    <tr>\n",
              "      <th>3</th>\n",
              "      <td>2020-05-21 11:16:58</td>\n",
              "      <td>I rarely make App Store reviews, but since I l...</td>\n",
              "      <td>5.0</td>\n",
              "      <td>False</td>\n",
              "      <td>Lana01827482910</td>\n",
              "      <td>Trustworthy, simple to use</td>\n",
              "      <td>NaN</td>\n",
              "      <td>NaN</td>\n",
              "      <td>NaN</td>\n",
              "      <td>NaN</td>\n",
              "      <td>NaN</td>\n",
              "      <td>NaN</td>\n",
              "      <td>NaN</td>\n",
              "      <td>NaN</td>\n",
              "      <td>NaN</td>\n",
              "    </tr>\n",
              "    <tr>\n",
              "      <th>4</th>\n",
              "      <td>2021-11-20 16:30:04</td>\n",
              "      <td>Coinomi seemed to be a decent wallet for stori...</td>\n",
              "      <td>2.0</td>\n",
              "      <td>False</td>\n",
              "      <td>Newtius Maximus</td>\n",
              "      <td>Canât withdraw or exchange any crypto due to...</td>\n",
              "      <td>{'id': 28133534, 'body': \"Hi Newtius, Sorry to...</td>\n",
              "      <td>NaN</td>\n",
              "      <td>NaN</td>\n",
              "      <td>NaN</td>\n",
              "      <td>NaN</td>\n",
              "      <td>NaN</td>\n",
              "      <td>NaN</td>\n",
              "      <td>NaN</td>\n",
              "      <td>NaN</td>\n",
              "    </tr>\n",
              "  </tbody>\n",
              "</table>\n",
              "</div>\n",
              "      <button class=\"colab-df-convert\" onclick=\"convertToInteractive('df-4e0c894b-5c7a-4f7d-b680-e7a250bbbb9c')\"\n",
              "              title=\"Convert this dataframe to an interactive table.\"\n",
              "              style=\"display:none;\">\n",
              "        \n",
              "  <svg xmlns=\"http://www.w3.org/2000/svg\" height=\"24px\"viewBox=\"0 0 24 24\"\n",
              "       width=\"24px\">\n",
              "    <path d=\"M0 0h24v24H0V0z\" fill=\"none\"/>\n",
              "    <path d=\"M18.56 5.44l.94 2.06.94-2.06 2.06-.94-2.06-.94-.94-2.06-.94 2.06-2.06.94zm-11 1L8.5 8.5l.94-2.06 2.06-.94-2.06-.94L8.5 2.5l-.94 2.06-2.06.94zm10 10l.94 2.06.94-2.06 2.06-.94-2.06-.94-.94-2.06-.94 2.06-2.06.94z\"/><path d=\"M17.41 7.96l-1.37-1.37c-.4-.4-.92-.59-1.43-.59-.52 0-1.04.2-1.43.59L10.3 9.45l-7.72 7.72c-.78.78-.78 2.05 0 2.83L4 21.41c.39.39.9.59 1.41.59.51 0 1.02-.2 1.41-.59l7.78-7.78 2.81-2.81c.8-.78.8-2.07 0-2.86zM5.41 20L4 18.59l7.72-7.72 1.47 1.35L5.41 20z\"/>\n",
              "  </svg>\n",
              "      </button>\n",
              "      \n",
              "  <style>\n",
              "    .colab-df-container {\n",
              "      display:flex;\n",
              "      flex-wrap:wrap;\n",
              "      gap: 12px;\n",
              "    }\n",
              "\n",
              "    .colab-df-convert {\n",
              "      background-color: #E8F0FE;\n",
              "      border: none;\n",
              "      border-radius: 50%;\n",
              "      cursor: pointer;\n",
              "      display: none;\n",
              "      fill: #1967D2;\n",
              "      height: 32px;\n",
              "      padding: 0 0 0 0;\n",
              "      width: 32px;\n",
              "    }\n",
              "\n",
              "    .colab-df-convert:hover {\n",
              "      background-color: #E2EBFA;\n",
              "      box-shadow: 0px 1px 2px rgba(60, 64, 67, 0.3), 0px 1px 3px 1px rgba(60, 64, 67, 0.15);\n",
              "      fill: #174EA6;\n",
              "    }\n",
              "\n",
              "    [theme=dark] .colab-df-convert {\n",
              "      background-color: #3B4455;\n",
              "      fill: #D2E3FC;\n",
              "    }\n",
              "\n",
              "    [theme=dark] .colab-df-convert:hover {\n",
              "      background-color: #434B5C;\n",
              "      box-shadow: 0px 1px 3px 1px rgba(0, 0, 0, 0.15);\n",
              "      filter: drop-shadow(0px 1px 2px rgba(0, 0, 0, 0.3));\n",
              "      fill: #FFFFFF;\n",
              "    }\n",
              "  </style>\n",
              "\n",
              "      <script>\n",
              "        const buttonEl =\n",
              "          document.querySelector('#df-4e0c894b-5c7a-4f7d-b680-e7a250bbbb9c button.colab-df-convert');\n",
              "        buttonEl.style.display =\n",
              "          google.colab.kernel.accessAllowed ? 'block' : 'none';\n",
              "\n",
              "        async function convertToInteractive(key) {\n",
              "          const element = document.querySelector('#df-4e0c894b-5c7a-4f7d-b680-e7a250bbbb9c');\n",
              "          const dataTable =\n",
              "            await google.colab.kernel.invokeFunction('convertToInteractive',\n",
              "                                                     [key], {});\n",
              "          if (!dataTable) return;\n",
              "\n",
              "          const docLinkHtml = 'Like what you see? Visit the ' +\n",
              "            '<a target=\"_blank\" href=https://colab.research.google.com/notebooks/data_table.ipynb>data table notebook</a>'\n",
              "            + ' to learn more about interactive tables.';\n",
              "          element.innerHTML = '';\n",
              "          dataTable['output_type'] = 'display_data';\n",
              "          await google.colab.output.renderOutput(dataTable, element);\n",
              "          const docLink = document.createElement('div');\n",
              "          docLink.innerHTML = docLinkHtml;\n",
              "          element.appendChild(docLink);\n",
              "        }\n",
              "      </script>\n",
              "    </div>\n",
              "  </div>\n",
              "  "
            ]
          },
          "metadata": {},
          "execution_count": 45
        }
      ]
    },
    {
      "cell_type": "markdown",
      "source": [
        "### DATA ELIMINTATION FOR FEWEVER WORD ###"
      ],
      "metadata": {
        "id": "IEgvYkR0uMrJ"
      }
    },
    {
      "cell_type": "code",
      "source": [
        "import pandas as pd\n",
        "\n",
        "# Load the dataset into a pandas dataframe\n",
        "df = pd.read_csv('6. Final Data W Data Preprocessing.csv')\n",
        "df.shape"
      ],
      "metadata": {
        "colab": {
          "base_uri": "https://localhost:8080/"
        },
        "id": "xSe3Qvri4A9C",
        "outputId": "5c59d2e9-763d-4a6e-f771-feae5d527c89"
      },
      "execution_count": null,
      "outputs": [
        {
          "output_type": "execute_result",
          "data": {
            "text/plain": [
              "(14075, 4)"
            ]
          },
          "metadata": {},
          "execution_count": 16
        }
      ]
    },
    {
      "cell_type": "code",
      "source": [
        "import pandas as pd\n",
        "\n",
        "# Load the dataset into a pandas dataframe\n",
        "df = pd.read_csv('6. Final Data W Data Preprocessing.csv')\n",
        "\n",
        "# Create a new column 'word_count' that contains the number of words in each comment\n",
        "df['word_count'] = df['comment'].apply(lambda x: len(str(x).split()))\n",
        "\n",
        "# Exclude the reviews that have only three or fewer words\n",
        "df = df[df['word_count'] > 3]\n",
        "\n",
        "# Drop the 'word_count' column since we no longer need it\n",
        "df = df.drop(columns=['word_count'])\n",
        "\n",
        "# Print the updated dataset\n",
        "df.shape\n"
      ],
      "metadata": {
        "id": "ePIYSR299vJN",
        "colab": {
          "base_uri": "https://localhost:8080/"
        },
        "outputId": "6c04f36b-2007-495c-d17c-6979653ceee1"
      },
      "execution_count": null,
      "outputs": [
        {
          "output_type": "execute_result",
          "data": {
            "text/plain": [
              "(11231, 4)"
            ]
          },
          "metadata": {},
          "execution_count": 17
        }
      ]
    },
    {
      "cell_type": "code",
      "source": [
        "df.to_csv ('7. Final Data Without Data Preprocessing.csv ', index = False)"
      ],
      "metadata": {
        "id": "xoXtVDyKuKwq"
      },
      "execution_count": null,
      "outputs": []
    },
    {
      "cell_type": "code",
      "source": [],
      "metadata": {
        "id": "AmkDLqZ6uo2T"
      },
      "execution_count": null,
      "outputs": []
    }
  ]
}